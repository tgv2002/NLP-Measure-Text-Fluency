{
  "cells": [
    {
      "cell_type": "code",
      "execution_count": null,
      "metadata": {
        "id": "hwHwMN9u8qzy"
      },
      "outputs": [],
      "source": [
        "!pip install -U nltk"
      ]
    },
    {
      "cell_type": "code",
      "execution_count": null,
      "metadata": {
        "id": "BUkoVXL09PtY"
      },
      "outputs": [],
      "source": [
        "import pandas as pd\n",
        "import re\n",
        "import json\n",
        "from nltk.corpus import stopwords\n",
        "import nltk\n",
        "import numpy as np\n",
        "nltk.download('stopwords')\n",
        "\n",
        "from nltk.util import pad_sequence\n",
        "from nltk.util import ngrams\n",
        "from nltk import word_tokenize, sent_tokenize\n",
        "from nltk.lm.preprocessing import padded_everygram_pipeline\n",
        "from nltk.lm import MLE\n",
        "\n",
        "stop_words = stopwords.words('english')"
      ]
    },
    {
      "cell_type": "code",
      "execution_count": null,
      "metadata": {
        "id": "JXZ-WkxS9SLo"
      },
      "outputs": [],
      "source": [
        "# from google.colab import files\n",
        "# uploaded = files.upload()"
      ]
    },
    {
      "cell_type": "code",
      "execution_count": null,
      "metadata": {
        "id": "C1v0Susj9WbN"
      },
      "outputs": [],
      "source": [
        "load_paths = ['../../data/train_data.csv', '../../data/valid_data.csv', '../../data/test_data.csv']\n",
        "load_paths = ['./train_data.csv', './valid_data.csv', './test_data.csv']\n",
        "\n",
        "train_data = pd.read_csv(load_paths[0])\n",
        "valid_data = pd.read_csv(load_paths[1])\n",
        "test_data = pd.read_csv(load_paths[2])"
      ]
    },
    {
      "cell_type": "code",
      "execution_count": null,
      "metadata": {
        "id": "JfxHu-Vm9XOZ"
      },
      "outputs": [],
      "source": [
        "def filter_unwanted_rows(data):\n",
        "    y = data['Label'].tolist()\n",
        "    to_drop = [i for i in range(len(y)) if y[i] > 3]\n",
        "    new_data = data.drop(labels=to_drop, axis=0)\n",
        "    return np.asarray(new_data['Source']), np.asarray(new_data['Label'])"
      ]
    },
    {
      "cell_type": "code",
      "execution_count": null,
      "metadata": {
        "id": "pXxmS8am9axl"
      },
      "outputs": [],
      "source": [
        "X_train, y_train = filter_unwanted_rows(train_data)\n",
        "X_test, y_test = filter_unwanted_rows(test_data)\n",
        "X_valid, y_valid = filter_unwanted_rows(valid_data)\n",
        "\n",
        "y_train = np.asarray([y_train[i] for i in range(len(y_train)) if len(X_train[i]) <= 550])\n",
        "X_train = np.asarray([x for x in X_train if len(x) <= 550])\n",
        "y_test = np.asarray([y_test[i] for i in range(len(y_test)) if len(X_test[i]) <= 550])\n",
        "X_test = np.asarray([x for x in X_test if len(x) <= 550])\n",
        "y_valid = np.asarray([y_valid[i] for i in range(len(y_valid)) if len(X_valid[i]) <= 550])\n",
        "X_valid = np.asarray([x for x in X_valid if len(x) <= 550])"
      ]
    },
    {
      "cell_type": "code",
      "execution_count": null,
      "metadata": {
        "id": "jPxsCLeL9bmH"
      },
      "outputs": [],
      "source": [
        "# Different techniques for tackling class imbalance\n",
        "from imblearn.over_sampling import RandomOverSampler, SMOTE\n",
        "\n",
        "def balance_data(x, y, _type=0):\n",
        "    if _type == 1:\n",
        "        ros = RandomOverSampler(random_state=42)\n",
        "        return ros.fit_resample(x, y)\n",
        "    elif _type == 2:\n",
        "        smote = SMOTE()\n",
        "        return smote.fit_resample(x, y)\n",
        "    return x, y"
      ]
    },
    {
      "cell_type": "code",
      "execution_count": null,
      "metadata": {
        "id": "IReo0evg9krr"
      },
      "outputs": [],
      "source": [
        "def minor_clean_text(text):\n",
        "    text = text.lower()\n",
        "    text = re.sub(r\"\\n\", \" \", text)\n",
        "    text = re.sub(\"[\\<\\[].*?[\\>\\]]\", \" \", text)\n",
        "    text = re.sub(r\"[^a-z ]\", \" \", text)\n",
        "    text = re.sub(r\"\\b\\w{1,2}\\b\", \" \", text)\n",
        "    return \" \".join([x for x in text.split() if x not in stop_words])"
      ]
    },
    {
      "cell_type": "code",
      "execution_count": null,
      "metadata": {
        "colab": {
          "base_uri": "https://localhost:8080/"
        },
        "id": "xIl8ekjv954R",
        "outputId": "43d24aaf-5d50-4361-fa5e-26a4663a6942"
      },
      "outputs": [
        {
          "name": "stdout",
          "output_type": "stream",
          "text": [
            "Train labels ratio\n",
            "Counter({3: 14012, 2: 1929, 1: 64})\n",
            "Test labels ratio\n",
            "Counter({3: 3015, 2: 427, 1: 12})\n",
            "Validation labels ratio\n",
            "Counter({3: 3000, 2: 438, 1: 9})\n"
          ]
        }
      ],
      "source": [
        "from collections import Counter\n",
        "\n",
        "print(\"Train labels ratio\")\n",
        "print(Counter(y_train.tolist()))\n",
        "print(\"Test labels ratio\")\n",
        "print(Counter(y_test.tolist()))\n",
        "print(\"Validation labels ratio\")\n",
        "print(Counter(y_valid.tolist()))"
      ]
    },
    {
      "cell_type": "code",
      "execution_count": null,
      "metadata": {
        "id": "zfEU6gWD-Sm-"
      },
      "outputs": [],
      "source": [
        "X_train = [minor_clean_text(text) for text in X_train]\n",
        "X_valid = [minor_clean_text(text) for text in X_valid]\n",
        "X_test = [minor_clean_text(text) for text in X_test]"
      ]
    },
    {
      "cell_type": "code",
      "execution_count": null,
      "metadata": {
        "id": "QvBaoL-VAu9x"
      },
      "outputs": [],
      "source": [
        "from sklearn.metrics import ConfusionMatrixDisplay, accuracy_score, precision_score, f1_score, recall_score, classification_report\n",
        "import matplotlib.pyplot as plt\n",
        "import json\n",
        "\n",
        "statements = {0: \"Without oversampling\", 1: \"With random oversampling\", 2: \"With SMOTE\"}\n",
        "\n",
        "def get_metrics(b, ytrue, ypred, file_name, folder_name):\n",
        "    print('\\n\\n')\n",
        "    print(statements[b] + '\\n')\n",
        "    print(classification_report(ytrue, ypred))\n",
        "    ret = classification_report(ytrue, ypred, output_dict=True)\n",
        "    ConfusionMatrixDisplay.from_predictions(ytrue, ypred)\n",
        "    plt.savefig(f\"{folder_name}/{file_name}_conf.png\",dpi=300)\n",
        "    plt.show()\n",
        "    print('\\n\\n')\n",
        "    with open(f\"{folder_name}/{file_name}_stats.json\", \"w\") as f:\n",
        "        json.dump(ret, f, indent=4) "
      ]
    },
    {
      "cell_type": "code",
      "execution_count": null,
      "metadata": {
        "colab": {
          "base_uri": "https://localhost:8080/"
        },
        "id": "-4HUxlaPA17U",
        "outputId": "4ac41df0-3213-4b08-b57f-cc61dc6a20e7"
      },
      "outputs": [
        {
          "name": "stdout",
          "output_type": "stream",
          "text": [
            "(6901, 6000)\n",
            "(6901,)\n"
          ]
        }
      ],
      "source": [
        "from sklearn.feature_extraction.text import TfidfVectorizer\n",
        "\n",
        "vectorizer = TfidfVectorizer(max_features=6000)\n",
        "vectorizer.fit(X_train)\n",
        "X_train = vectorizer.transform(X_train).toarray()\n",
        "X_valid = vectorizer.transform(X_valid).toarray()\n",
        "X_test = vectorizer.transform(X_test).toarray()\n",
        "\n",
        "X_test = np.concatenate((X_test, X_valid), axis=0)\n",
        "y_test = np.concatenate((y_test, y_valid))\n",
        "\n",
        "print(X_test.shape)\n",
        "print(y_test.shape)"
      ]
    },
    {
      "cell_type": "code",
      "execution_count": null,
      "metadata": {
        "id": "cY7-mWnAD8pc"
      },
      "outputs": [],
      "source": [
        "# RF\n",
        "from sklearn.ensemble import RandomForestClassifier\n",
        "\n",
        "for t in range(3):\n",
        "    X_train, y_train = balance_data(X_train, y_train, t)\n",
        "\n",
        "    print(\"Class distribution:\", Counter(y_train))\n",
        "    rf_model = RandomForestClassifier(random_state=123).fit(X_train, y_train)\n",
        "    print(\"\\nFor training set\\n\")\n",
        "    train_pred = rf_model.predict(X_train)\n",
        "    get_metrics(t, y_train, train_pred, f\"RF_train_{t}\", \"RF\")\n",
        "    print(\"\\nFor test set\\n\")\n",
        "    test_pred = rf_model.predict(X_test)\n",
        "    get_metrics(t, y_test, test_pred, f\"RF_test_{t}\", \"RF\")\n",
        "    print('-'*210)"
      ]
    },
    {
      "cell_type": "code",
      "execution_count": null,
      "metadata": {
        "id": "Ol5x_N4t1oEt"
      },
      "outputs": [],
      "source": [
        "# DT\n",
        "from sklearn.tree import DecisionTreeClassifier\n",
        "\n",
        "for t in range(3):\n",
        "    X_train, y_train = balance_data(X_train, y_train, t)\n",
        "\n",
        "    print(\"Class distribution:\", Counter(y_train))\n",
        "    dt_model = DecisionTreeClassifier(random_state=123).fit(X_train, y_train)\n",
        "    print(\"\\nFor training set\\n\")\n",
        "    train_pred = dt_model.predict(X_train)\n",
        "    get_metrics(t, y_train, train_pred, f\"DT_train_{t}\", \"DT\")\n",
        "    print(\"\\nFor test set\\n\")\n",
        "    test_pred = dt_model.predict(X_test)\n",
        "    get_metrics(t, y_test, test_pred, f\"DT_test_{t}\", \"DT\")\n",
        "    print('-'*210)"
      ]
    },
    {
      "cell_type": "code",
      "execution_count": null,
      "metadata": {
        "colab": {
          "background_save": true
        },
        "id": "JcBLIKRJ2UUD"
      },
      "outputs": [],
      "source": [
        "# SVM\n",
        "from sklearn import svm\n",
        "\n",
        "for t in range(3):\n",
        "    if t == 0:\n",
        "        X_tr, y_tr = balance_data(X_train, y_train, t)\n",
        "    else:\n",
        "        X_tr, y_tr = balance_data(X_train[:5500], y_train[:5500], t)\n",
        "    print(\"Class distribution:\", Counter(y_tr))\n",
        "    svm_model = svm.SVC().fit(X_tr, y_tr)\n",
        "    print(\"\\nFor training set\\n\")\n",
        "    train_pred = svm_model.predict(X_tr)\n",
        "    get_metrics(t, y_tr, train_pred, f\"SVM_train_{t}\", \"SVM\")\n",
        "    print(\"\\nFor test set\\n\")\n",
        "    test_pred = svm_model.predict(X_test)\n",
        "    get_metrics(t, y_test, test_pred, f\"SVM_test_{t}\", \"SVM\")\n",
        "    print('-'*210)"
      ]
    },
    {
      "cell_type": "code",
      "execution_count": null,
      "metadata": {
        "id": "Q8hfY57o3jWJ"
      },
      "outputs": [],
      "source": [
        "# KNN\n",
        "from sklearn.neighbors import KNeighborsClassifier\n",
        "\n",
        "for t in range(3):\n",
        "    X_train, y_train = balance_data(X_train, y_train, t)\n",
        "\n",
        "    print(\"Class distribution:\", Counter(y_train))\n",
        "    knn_model = KNeighborsClassifier(n_neighbors=203).fit(X_train, y_train)\n",
        "    print(\"\\nFor training set\\n\")\n",
        "    train_pred = knn_model.predict(X_train)\n",
        "    get_metrics(t, y_train, train_pred, f\"KNN_train_{t}\", \"KNN\")\n",
        "    print(\"\\nFor test set\\n\")\n",
        "    test_pred = knn_model.predict(X_test)\n",
        "    get_metrics(t, y_test, test_pred, f\"KNN_test_{t}\", \"KNN\")\n",
        "    print('-'*210)"
      ]
    },
    {
      "cell_type": "code",
      "execution_count": null,
      "metadata": {
        "id": "zsI11B-BYLj5"
      },
      "outputs": [],
      "source": [
        "# !zip -r SVM.zip SVM"
      ]
    },
    {
      "cell_type": "code",
      "execution_count": 17,
      "metadata": {
        "colab": {
          "base_uri": "https://localhost:8080/",
          "height": 17
        },
        "id": "yzk6ZgqRYr0N",
        "outputId": "04048c79-200b-4cb1-fe11-b786eff7453d"
      },
      "outputs": [
        {
          "output_type": "display_data",
          "data": {
            "application/javascript": [
              "\n",
              "    async function download(id, filename, size) {\n",
              "      if (!google.colab.kernel.accessAllowed) {\n",
              "        return;\n",
              "      }\n",
              "      const div = document.createElement('div');\n",
              "      const label = document.createElement('label');\n",
              "      label.textContent = `Downloading \"${filename}\": `;\n",
              "      div.appendChild(label);\n",
              "      const progress = document.createElement('progress');\n",
              "      progress.max = size;\n",
              "      div.appendChild(progress);\n",
              "      document.body.appendChild(div);\n",
              "\n",
              "      const buffers = [];\n",
              "      let downloaded = 0;\n",
              "\n",
              "      const channel = await google.colab.kernel.comms.open(id);\n",
              "      // Send a message to notify the kernel that we're ready.\n",
              "      channel.send({})\n",
              "\n",
              "      for await (const message of channel.messages) {\n",
              "        // Send a message to notify the kernel that we're ready.\n",
              "        channel.send({})\n",
              "        if (message.buffers) {\n",
              "          for (const buffer of message.buffers) {\n",
              "            buffers.push(buffer);\n",
              "            downloaded += buffer.byteLength;\n",
              "            progress.value = downloaded;\n",
              "          }\n",
              "        }\n",
              "      }\n",
              "      const blob = new Blob(buffers, {type: 'application/binary'});\n",
              "      const a = document.createElement('a');\n",
              "      a.href = window.URL.createObjectURL(blob);\n",
              "      a.download = filename;\n",
              "      div.appendChild(a);\n",
              "      a.click();\n",
              "      div.remove();\n",
              "    }\n",
              "  "
            ],
            "text/plain": [
              "<IPython.core.display.Javascript object>"
            ]
          },
          "metadata": {}
        },
        {
          "output_type": "display_data",
          "data": {
            "application/javascript": [
              "download(\"download_f5bf9673-94ce-4f64-ae98-cea3b7b369ca\", \"SVM.zip\", 316149)"
            ],
            "text/plain": [
              "<IPython.core.display.Javascript object>"
            ]
          },
          "metadata": {}
        }
      ],
      "source": [
        "# from google.colab import files\n",
        "# files.download(\"SVM.zip\")"
      ]
    }
  ],
  "metadata": {
    "colab": {
      "collapsed_sections": [],
      "name": "Supervised-experiments.ipynb",
      "provenance": []
    },
    "kernelspec": {
      "display_name": "Python 3",
      "name": "python3"
    },
    "language_info": {
      "name": "python"
    }
  },
  "nbformat": 4,
  "nbformat_minor": 0
}