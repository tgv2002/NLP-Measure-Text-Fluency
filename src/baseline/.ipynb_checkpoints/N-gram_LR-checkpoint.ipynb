{
 "cells": [
  {
   "cell_type": "code",
   "execution_count": null,
   "id": "10d895a1",
   "metadata": {},
   "outputs": [],
   "source": [
    "import pandas as pd\n",
    "import re\n",
    "import json\n",
    "from nltk.corpus import stopwords\n",
    "import nltk\n",
    "#nltk.download('stopwords')\n",
    "\n",
    "stop_words = stopwords.words('english')"
   ]
  },
  {
   "cell_type": "code",
   "execution_count": null,
   "id": "c0ca3075",
   "metadata": {},
   "outputs": [],
   "source": [
    "train_data = pd.read_csv('../../data/train_data.csv')\n",
    "valid_data = pd.read_csv('../../data/valid_data.csv')\n",
    "test_data = pd.read_csv('../../data/test_data.csv')"
   ]
  },
  {
   "cell_type": "code",
   "execution_count": null,
   "id": "209970b2",
   "metadata": {},
   "outputs": [],
   "source": [
    "X_train, y_train = train_data['Source'], train_data['Label']\n",
    "X_test, y_test = test_data['Source'], test_data['Label']\n",
    "X_valid, y_valid = valid_data['Source'], valid_data['Label']"
   ]
  },
  {
   "cell_type": "code",
   "execution_count": null,
   "id": "535dbd64",
   "metadata": {},
   "outputs": [],
   "source": [
    "from collections import Counter\n",
    "\n",
    "print(\"Train labels ratio\")\n",
    "print(Counter(y_train))\n",
    "print(\"Test labels ratio\")\n",
    "print(Counter(y_test))\n",
    "print(\"Validation labels ratio\")\n",
    "print(Counter(y_valid))"
   ]
  }
 ],
 "metadata": {
  "kernelspec": {
   "display_name": "Python 3 (ipykernel)",
   "language": "python",
   "name": "python3"
  },
  "language_info": {
   "codemirror_mode": {
    "name": "ipython",
    "version": 3
   },
   "file_extension": ".py",
   "mimetype": "text/x-python",
   "name": "python",
   "nbconvert_exporter": "python",
   "pygments_lexer": "ipython3",
   "version": "3.9.5"
  }
 },
 "nbformat": 4,
 "nbformat_minor": 5
}
